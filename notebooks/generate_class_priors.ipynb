{
  "cells": [
    {
      "attachments": {},
      "cell_type": "markdown",
      "metadata": {},
      "source": [
        "# 🧨 Dreambooth-Keras + WandB 🪄🐝\n",
        "\n",
        "[![](https://colab.research.google.com/assets/colab-badge.svg)](https://colab.research.google.com/github/soumik12345/dreambooth-keras/blob/main/notebooks/generate_class_priors.ipynb)\n",
        "\n",
        "<!--- @wandbcode{dreambooth-keras-inference} -->\n",
        "\n",
        "This notebook shows how to generate class priors using pre-trained Stable-Diffusion for using Dreambooth."
      ]
    },
    {
      "attachments": {},
      "cell_type": "markdown",
      "metadata": {},
      "source": [
        "We would use [soumik12345/dreambooth-keras](https://github.com/soumik12345/dreambooth-keras) which is a fork of [sayakpaul/dreambooth-keras](https://github.com/sayakpaul/dreambooth-keras) developed by [**Sayak Paul**](https://github.com/sayakpaul) and [**Chansung Park**](https://github.com/deep-diver)."
      ]
    },
    {
      "cell_type": "code",
      "execution_count": null,
      "metadata": {
        "id": "lS37M6R9h7X6"
      },
      "outputs": [],
      "source": [
        "!pip install -q git+https://github.com/soumik12345/dreambooth-keras.git"
      ]
    },
    {
      "cell_type": "code",
      "execution_count": null,
      "metadata": {
        "id": "ygttkaWeiuE2"
      },
      "outputs": [],
      "source": [
        "from tqdm import tqdm\n",
        "import numpy as np \n",
        "import hashlib\n",
        "import shutil\n",
        "import PIL \n",
        "import os\n",
        "\n",
        "import wandb\n",
        "import keras_cv\n",
        "import tensorflow as tf"
      ]
    },
    {
      "cell_type": "code",
      "execution_count": null,
      "metadata": {
        "id": "mgHFUd8pipkQ"
      },
      "outputs": [],
      "source": [
        "wandb.init(project=\"dreambooth-keras\", job_type=\"inference\")\n",
        "\n",
        "config = wandb.config\n",
        "config.image_resolution = 512\n",
        "config.class_prompt = \"a photo of monkey\"\n",
        "config.num_imgs_to_generate = 300\n",
        "config.batch_size = 3\n",
        "config.wandb_artifact_name = \"monkey-instance\"\n",
        "\n",
        "\n",
        "tf.keras.mixed_precision.set_global_policy(\"mixed_float16\")\n",
        "model = keras_cv.models.StableDiffusion(\n",
        "    img_width=config.image_resolution,\n",
        "    img_height=config.image_resolution,\n",
        "    jit_compile=True\n",
        ")"
      ]
    },
    {
      "cell_type": "code",
      "execution_count": null,
      "metadata": {
        "id": "czaYTOIOismu"
      },
      "outputs": [],
      "source": [
        "os.makedirs(\"class-images\", exist_ok=True)\n",
        "\n",
        "for i in tqdm(range(config.num_imgs_to_generate)):\n",
        "    images = model.text_to_image(\n",
        "        config.class_prompt,\n",
        "        batch_size=config.batch_size,\n",
        "    )\n",
        "    idx = np.random.choice(len(images))\n",
        "    selected_image = PIL.Image.fromarray(images[idx])\n",
        "    \n",
        "    hash_image = hashlib.sha1(selected_image.tobytes()).hexdigest()\n",
        "    image_filename = os.path.join(\"class-images\", f\"{hash_image}.jpg\")\n",
        "    selected_image.save(image_filename)\n",
        "\n",
        "artifact = wandb.Artifact(config.wandb_artifact_name, type='dataset')\n",
        "artifact.add_dir(\"class-images\")\n",
        "wandb.log_artifact(artifact)\n",
        "\n",
        "wandb.finish()\n",
        "\n",
        "shutil.rmtree(\"class-images\")"
      ]
    }
  ],
  "metadata": {
    "accelerator": "GPU",
    "colab": {
      "machine_shape": "hm",
      "provenance": []
    },
    "gpuClass": "premium",
    "kernelspec": {
      "display_name": "base",
      "language": "python",
      "name": "python3"
    },
    "language_info": {
      "codemirror_mode": {
        "name": "ipython",
        "version": 3
      },
      "file_extension": ".py",
      "mimetype": "text/x-python",
      "name": "python",
      "nbconvert_exporter": "python",
      "pygments_lexer": "ipython3",
      "version": "3.7.12"
    },
    "vscode": {
      "interpreter": {
        "hash": "d4d1e4263499bec80672ea0156c357c1ee493ec2b1c70f0acce89fc37c4a6abe"
      }
    }
  },
  "nbformat": 4,
  "nbformat_minor": 0
}
