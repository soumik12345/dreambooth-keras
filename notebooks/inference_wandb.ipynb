{
 "cells": [
  {
   "cell_type": "code",
   "execution_count": null,
   "metadata": {},
   "outputs": [],
   "source": [
    "!pip install -q git+https://github.com/soumik12345/dreambooth-keras.git"
   ]
  },
  {
   "cell_type": "code",
   "execution_count": null,
   "metadata": {},
   "outputs": [],
   "source": [
    "import wandb\n",
    "from PIL import Image\n",
    "from dreambooth_keras.utils import load_model_from_wandb_artifact"
   ]
  },
  {
   "cell_type": "code",
   "execution_count": null,
   "metadata": {},
   "outputs": [],
   "source": [
    "wandb.init(project=\"dreambooth-keras\", job_type=\"inference\")\n",
    "\n",
    "config = wandb.config\n",
    "config.model_artifact_address = \"geekyrakshit/dreambooth-keras/run_n5oakq7c_model:v0\"\n",
    "config.image_resolution = 512\n",
    "config.num_diffusion_steps = 500\n",
    "config.batch_size = 5\n",
    "config.unique_id = \"sks\"\n",
    "config.class_category = \"monkey\"\n",
    "config.prompt = \"a painting of sks monkey in the style of Michelangelo\"\n",
    "config.unconditional_guidance_scale = 15\n",
    "\n",
    "\n",
    "wandb_table = wandb.Table(columns=[\n",
    "    \"prompt\", \"images\", \"unique-id\", \"class-category\",\"image-resolution\", \"num-diffusion-steps\"\n",
    "])"
   ]
  },
  {
   "cell_type": "code",
   "execution_count": null,
   "metadata": {},
   "outputs": [],
   "source": [
    "dreambooth_model = load_model_from_wandb_artifact(\n",
    "    artifact_address=config.model_artifact_address,\n",
    "    image_resolution=config.image_resolution\n",
    ")\n",
    "images = dreambooth_model.text_to_image(\n",
    "    config.prompt,\n",
    "    batch_size=config.batch_size,\n",
    "    num_steps=config.num_diffusion_steps,\n",
    "    unconditional_guidance_scale=config.unconditional_guidance_scale,\n",
    ")\n",
    "images = [\n",
    "    wandb.Image(Image.fromarray(image), caption=f\"{i}: {config.prompt}\")\n",
    "    for i, image in enumerate(images)\n",
    "]\n",
    "wandb_table.add_data(\n",
    "    config.prompt,\n",
    "    images,\n",
    "    config.unique_id,\n",
    "    config.class_category,\n",
    "    config.image_resolution,\n",
    "    config.num_diffusion_steps\n",
    ")\n",
    "wandb.log({\"Inference-Results\": wandb_table})\n",
    "wandb.finish()"
   ]
  },
  {
   "cell_type": "code",
   "execution_count": null,
   "metadata": {},
   "outputs": [],
   "source": []
  }
 ],
 "metadata": {
  "kernelspec": {
   "display_name": "base",
   "language": "python",
   "name": "python3"
  },
  "language_info": {
   "codemirror_mode": {
    "name": "ipython",
    "version": 3
   },
   "file_extension": ".py",
   "mimetype": "text/x-python",
   "name": "python",
   "nbconvert_exporter": "python",
   "pygments_lexer": "ipython3",
   "version": "3.7.12"
  },
  "orig_nbformat": 4,
  "vscode": {
   "interpreter": {
    "hash": "d4d1e4263499bec80672ea0156c357c1ee493ec2b1c70f0acce89fc37c4a6abe"
   }
  }
 },
 "nbformat": 4,
 "nbformat_minor": 2
}
