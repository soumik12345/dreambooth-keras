{
 "cells": [
  {
   "attachments": {},
   "cell_type": "markdown",
   "metadata": {},
   "source": [
    "# 🧨 Dreambooth-Keras + WandB 🪄🐝\n",
    "\n",
    "[![](https://colab.research.google.com/assets/colab-badge.svg)](https://colab.research.google.com/github/soumik12345/dreambooth-keras/blob/main/notebooks/inference_wandb.ipynb)\n",
    "\n",
    "<!--- @wandbcode{dreambooth-keras-inference} -->\n",
    "\n",
    "This notebook shows how to perform inference with a DreamBooth fine-tuned Stable Diffusion model."
   ]
  },
  {
   "attachments": {},
   "cell_type": "markdown",
   "metadata": {},
   "source": [
    "## 🌈 Install Dreambooth-Keras\n",
    "\n",
    "We would use [soumik12345/dreambooth-keras](https://github.com/soumik12345/dreambooth-keras) which is a fork of [sayakpaul/dreambooth-keras](https://github.com/sayakpaul/dreambooth-keras) developed by [**Sayak Paul**](https://github.com/sayakpaul) and [**Chansung Park**](https://github.com/deep-diver)."
   ]
  },
  {
   "cell_type": "code",
   "execution_count": null,
   "metadata": {},
   "outputs": [],
   "source": [
    "!pip install -q git+https://github.com/soumik12345/dreambooth-keras.git"
   ]
  },
  {
   "cell_type": "code",
   "execution_count": null,
   "metadata": {},
   "outputs": [],
   "source": [
    "import wandb\n",
    "from PIL import Image\n",
    "from dreambooth_keras.utils import load_model_from_wandb_artifact"
   ]
  },
  {
   "attachments": {},
   "cell_type": "markdown",
   "metadata": {},
   "source": [
    "## 🐝 Initialize WandB run\n",
    "\n",
    "We initialize a [Weights & Biases run](https://docs.wandb.ai/guides/runs) for storing generated images to a [Weights & Biases table](https://docs.wandb.ai/guides/data-vis)."
   ]
  },
  {
   "cell_type": "code",
   "execution_count": null,
   "metadata": {},
   "outputs": [],
   "source": [
    "wandb.init(project=\"dreambooth-keras\", job_type=\"inference\")\n",
    "\n",
    "config = wandb.config\n",
    "config.model_artifact_address = \"geekyrakshit/dreambooth-keras/run_n5oakq7c_model:v0\"\n",
    "config.image_resolution = 512\n",
    "config.num_diffusion_steps = 500\n",
    "config.batch_size = 5\n",
    "config.unique_id = \"sks\"\n",
    "config.class_category = \"monkey\"\n",
    "config.prompt = \"a painting of sks monkey in the style of Michelangelo\"\n",
    "config.unconditional_guidance_scale = 15\n",
    "\n",
    "\n",
    "wandb_table = wandb.Table(columns=[\n",
    "    \"prompt\", \"images\", \"unique-id\", \"class-category\",\"image-resolution\", \"num-diffusion-steps\"\n",
    "])"
   ]
  },
  {
   "attachments": {},
   "cell_type": "markdown",
   "metadata": {},
   "source": [
    "## 🧑‍🎨 Perform Inference"
   ]
  },
  {
   "attachments": {},
   "cell_type": "markdown",
   "metadata": {},
   "source": [
    "First we load our model from Weights & Biases artifacts created using the [`dreambooth_keras.utils.DreamBoothCheckpointCallback`](https://github.com/soumik12345/dreambooth-keras/blob/main/dreambooth_keras/utils.py#L93) which automatically logs model checkpoints as [Weights & Biases artifacts](https://docs.wandb.ai/guides/data-and-model-versioning) at the end of each epoch during training. We load these checkpoint using the simple utility [`dreambooth_keras.utils.load_model_from_wandb_artifact`](https://github.com/soumik12345/dreambooth-keras/blob/main/dreambooth_keras/utils.py#L23)."
   ]
  },
  {
   "cell_type": "code",
   "execution_count": null,
   "metadata": {},
   "outputs": [],
   "source": [
    "dreambooth_model = load_model_from_wandb_artifact(\n",
    "    artifact_address=config.model_artifact_address,\n",
    "    image_resolution=config.image_resolution\n",
    ")"
   ]
  },
  {
   "attachments": {},
   "cell_type": "markdown",
   "metadata": {},
   "source": [
    "Now, we perform inference on our *dreamboothed* stable-diffusion model."
   ]
  },
  {
   "cell_type": "code",
   "execution_count": null,
   "metadata": {},
   "outputs": [],
   "source": [
    "images = dreambooth_model.text_to_image(\n",
    "    config.prompt,\n",
    "    batch_size=config.batch_size,\n",
    "    num_steps=config.num_diffusion_steps,\n",
    "    unconditional_guidance_scale=config.unconditional_guidance_scale,\n",
    ")"
   ]
  },
  {
   "attachments": {},
   "cell_type": "markdown",
   "metadata": {},
   "source": [
    "Next we log our images to a [Weights & Biases table](https://docs.wandb.ai/guides/data-vis) that not only makes ut easier to visualize but also easily accessible for future reference."
   ]
  },
  {
   "cell_type": "code",
   "execution_count": null,
   "metadata": {},
   "outputs": [],
   "source": [
    "images = [\n",
    "    wandb.Image(Image.fromarray(image), caption=f\"{i}: {config.prompt}\")\n",
    "    for i, image in enumerate(images)\n",
    "]\n",
    "wandb_table.add_data(\n",
    "    config.prompt,\n",
    "    images,\n",
    "    config.unique_id,\n",
    "    config.class_category,\n",
    "    config.image_resolution,\n",
    "    config.num_diffusion_steps\n",
    ")\n",
    "wandb.log({\"Inference-Results\": wandb_table})"
   ]
  },
  {
   "cell_type": "code",
   "execution_count": null,
   "metadata": {},
   "outputs": [],
   "source": [
    "wandb.finish()"
   ]
  }
 ],
 "metadata": {
  "kernelspec": {
   "display_name": "base",
   "language": "python",
   "name": "python3"
  },
  "language_info": {
   "codemirror_mode": {
    "name": "ipython",
    "version": 3
   },
   "file_extension": ".py",
   "mimetype": "text/x-python",
   "name": "python",
   "nbconvert_exporter": "python",
   "pygments_lexer": "ipython3",
   "version": "3.7.12"
  },
  "orig_nbformat": 4,
  "vscode": {
   "interpreter": {
    "hash": "d4d1e4263499bec80672ea0156c357c1ee493ec2b1c70f0acce89fc37c4a6abe"
   }
  }
 },
 "nbformat": 4,
 "nbformat_minor": 2
}
